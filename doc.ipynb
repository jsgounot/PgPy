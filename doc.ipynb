{
 "cells": [
  {
   "cell_type": "markdown",
   "metadata": {},
   "source": [
    "# pgpy\n",
    "\n",
    "pgpy is a versatile python library designed for variants analysis contained in VCF files.\n",
    "\n",
    "## About\n",
    "\n",
    "#### Why this lib\n",
    "\n",
    "pgpy does not intend to be a fast VCF processing tool but much more to allow you to quickly make specific analysis on your variants. In this context (see peformance), several other tools should be (way) faster compared to this module for some analysis. However, this module allows you to have a complete controle of your data and to easily produce scripts for very specific purposes.\n",
    "\n",
    "#### Formatting your data \n",
    "\n",
    "While this module allows you to modify your data on the fly, it is important to correctly manage your data before. This module allows you to read both single sample VCF or concatened VCFs produced either by [GATK GenotypeGVCFs](https://software.broadinstitute.org/gatk/documentation/tooldocs/3.8-0/org_broadinstitute_gatk_tools_walkers_variantutils_GenotypeGVCFs.php) or [VCFTools merge](https://vcftools.github.io/perl_module.html#vcf-merge) (use GATK is you can). VCF files must be tabixed and it is not a problem to bgzip them too, everything is managed by pysam for this. It is highly recommanded to set a proper ploidy to your sample (which can be done with GATK) for example.\n",
    "\n",
    "#### Requirements and compatibility\n",
    "\n",
    "This module should work if you use python 3 version. However, it has only be tested with my configuration, which is :\n",
    "\n",
    "- Python 3.5.4\n",
    "- Pysam 0.11.2.2\n",
    "- BioPython 1.68\n",
    "\n",
    "#### Performance issues\n",
    "\n",
    "Since this module is written in pure python, it can be slow especialy if your analysis is based on whole genome data. This is mainly due to the poor loop performance in python which are highly used in this context (iteration through sites and variants). On way to reduce this is to compiled your code using cython for example, however it is really unlikely that you will compete with other tools such as VCFTools.\n",
    "\n",
    "## Basics\n",
    "\n",
    "To iterate through your site, a `VCFIterator` object can be used. Since pysam manages tabix file, it allows you to select either whole genome or specific genome regions. Basic informations can also be accessed easily."
   ]
  },
  {
   "cell_type": "code",
   "execution_count": 2,
   "metadata": {
    "collapsed": false
   },
   "outputs": [
    {
     "name": "stdout",
     "output_type": "stream",
     "text": [
      "['AAA', 'AAB', 'AAC', 'AAD', 'AAE']\n",
      "['KLLA0A', 'KLLA0B', 'KLLA0C', 'KLLA0D', 'KLLA0E', 'KLLA0F']\n"
     ]
    }
   ],
   "source": [
    "from pgpy import VCFIterator as VI\n",
    "\n",
    "vcf = VI(\"./Test/vcf.gz\")\n",
    "print (vcf.samples[:5])\n",
    "print (vcf.contigs)"
   ]
  },
  {
   "cell_type": "code",
   "execution_count": 3,
   "metadata": {
    "collapsed": false
   },
   "outputs": [
    {
     "name": "stdout",
     "output_type": "stream",
     "text": [
      "KLLA0A 13297 C\n",
      "{'AAW': ('C',), 'AAV': ('C',), 'ABB': ('C',), 'AAA': ('C',), 'ABS': ('C',), 'ABI': ('C',), 'AAC': ('C',), 'ABA': ('C',), 'ABM': ('C',), 'AAS': ('C',), 'ABK': ('C',), 'AAU': ('C',), 'AAF': ('C',), 'AAQ': ('C',), 'ABG': ('C',), 'AAX': ('C',), 'AAJ': ('T',), 'ABE': ('C',), 'AAO': ('C',), 'AAN': ('C',), 'ABF': ('T',), 'AAL': ('C',), 'AAR': ('C',), 'ABP': ('C',), 'ABR': ('C',), 'AAM': ('C',), 'ABQ': ('C',), 'AAP': ('C',), 'AAE': ('T',), 'ABD': ('C',), 'AAK': ('C',), 'AAY': ('C',), 'AAT': ('C',), 'AAG': ('C',), 'AAI': ('T',), 'ABC': ('C',), 'AAD': ('C',), 'AAH': ('T',), 'ABO': ('C',), 'AAZ': ('C',), 'AAB': ('C',)}\n"
     ]
    }
   ],
   "source": [
    "for site in vcf.fetch() :\n",
    "    contig, position, ref, variants = site\n",
    "    print (contig, position, ref)\n",
    "    print (variants)\n",
    "    break"
   ]
  },
  {
   "cell_type": "markdown",
   "metadata": {},
   "source": [
    "For the rest of the document, I will use the function `fetch_first` which return just the first site."
   ]
  },
  {
   "cell_type": "markdown",
   "metadata": {},
   "source": [
    "#### Modifiers\n",
    "\n",
    "As you can see, pysam gives all alleles for each sample and in this case only haploid sample can be found. One of the strength of this lib is to be able to change on the fly alleles information. \n",
    "\n",
    "To do this, modifiers function can be used to modify allele during parsing. Some modifier are alread proposed in this lib, such as :\n",
    "\n",
    "- iupac_modifier\n",
    "- no_indel_modifier\n",
    "- only_indel_modifier\n",
    "- only_variable_modifier"
   ]
  },
  {
   "cell_type": "code",
   "execution_count": 5,
   "metadata": {
    "collapsed": false
   },
   "outputs": [
    {
     "name": "stdout",
     "output_type": "stream",
     "text": [
      "('KLLA0A', 13297, 'C', {'AAI': ('T',), 'AAJ': ('T',), 'ABF': ('T',), 'AAE': ('T',), 'AAH': ('T',)})\n"
     ]
    }
   ],
   "source": [
    "vcf.modifier = VI.only_variable_modifier\n",
    "print (vcf.fetch_first())"
   ]
  },
  {
   "cell_type": "markdown",
   "metadata": {},
   "source": [
    "However, you can also build specific modifier depending of what you want"
   ]
  },
  {
   "cell_type": "code",
   "execution_count": 7,
   "metadata": {
    "collapsed": false
   },
   "outputs": [
    {
     "name": "stdout",
     "output_type": "stream",
     "text": [
      "('KLLA0A', 13297, 'C', {'AAI': 'T', 'AAJ': 'T', 'ABF': 'T', 'AAE': 'T', 'AAH': 'T'})\n"
     ]
    }
   ],
   "source": [
    "def custom_modifier(variants, site) :\n",
    "    variants = VI.only_variable_modifier(variants, site)\n",
    "    return variants[0] if variants else variants\n",
    "\n",
    "vcf.modifier = custom_modifier\n",
    "print (vcf.fetch_first())"
   ]
  },
  {
   "cell_type": "markdown",
   "metadata": {},
   "source": [
    "#### Build-in site functions\n",
    "\n",
    "I try to add some usefull function using variants, for example if you need allele frequency"
   ]
  },
  {
   "cell_type": "code",
   "execution_count": 9,
   "metadata": {
    "collapsed": false
   },
   "outputs": [
    {
     "name": "stdout",
     "output_type": "stream",
     "text": [
      "{('C',): 0.8780487804878049, ('T',): 0.12195121951219512}\n"
     ]
    }
   ],
   "source": [
    "vcf.modifier = None\n",
    "for site in vcf.fetch() :\n",
    "    contig, position, ref, variants = site\n",
    "    print (VI.acount(variants, freq=True))\n",
    "    break"
   ]
  },
  {
   "cell_type": "markdown",
   "metadata": {},
   "source": [
    "## Alignments\n",
    "\n",
    "Producing output files, including alignment with reference data is as easy "
   ]
  },
  {
   "cell_type": "code",
   "execution_count": 11,
   "metadata": {
    "collapsed": false
   },
   "outputs": [
    {
     "name": "stdout",
     "output_type": "stream",
     "text": [
      "Alphabet() alignment with 41 rows and 100 columns\n",
      "AACCGGCGCCAGTGTGCTGGGACCACATACCTAATCAAATCCGT...CCA AAA_1\n",
      "AACCGGCGCCAGTGTGCTGGGACCACATACCTAATCAAATCCGT...CCA AAB_1\n",
      "AACCGGCGCCAGTGTGCTGGGACCACATACCTAATCAAATCCGT...CCA AAC_1\n",
      "AACCGGCGCCAGTGTGCTGGGACCACATACCTAATCAAATCCGT...CCA AAD_1\n",
      "AACCGGCGCCAGTGTGCTGGGACCACATACCTAATCAAATCCGT...CCA AAE_1\n",
      "AACCGGCGCCAGTGTGCTGGGACCACATACCTAATCAAATCCGT...CCA AAF_1\n",
      "AACCGGCGCCAGTGTGCTGGGACCACATACCTAATCAAATCCGT...CCA AAG_1\n",
      "AACCGGCGCCAGTGTGCTGGGACCACATACCTAATCAAATCCGT...CCA AAH_1\n",
      "AACCGGCGCCAGTGTGCTGGGACCACATACCTAATCAAATCCGT...CCA AAI_1\n",
      "AACCGGCGCCAGTGTGCTGGGACCACATACCTAATCAAATCCGT...CCA AAJ_1\n",
      "AACCGGCGCCAGTGTGCTGGGACCACATACCTAATCAAATCCGT...CCA AAK_1\n",
      "AACCGGCGCCAGTGTGCTGGGACCACATACCTAATCAAATCCGT...CCA AAL_1\n",
      "AACCGGCGCCAGTGTGCTGGGACCACATACCTAATCAAATCCGT...CCA AAM_1\n",
      "AACCGGCGCCAGTGTGCTGGGACCACATACCTAATCAAATCCGT...CCA AAN_1\n",
      "AACCGGCGCCAGTGTGCTGGGACCACATACCTAATCAAATCCGT...CCA AAO_1\n",
      "AACCGGCGCCAGTGTGCTGGGACCACATACCTAATCAAATCCGT...CCA AAP_1\n",
      "AACCGGCGCCAGTGTGCTGGGACCACATACCTAATCAAATCCGT...CCA AAQ_1\n",
      "AACCGGCGCCAGTGTGCTGGGACCACATACCTAATCAAATCCGT...CCA AAR_1\n",
      "...\n",
      "AACCGGCGCCAGTGTGCTGGGACCACATACCTAATCAAATCCGT...CCA ABS_1\n"
     ]
    }
   ],
   "source": [
    "from pgpy.core.aln import snps_aln\n",
    "\n",
    "ref = \"./Test/ref.fasta\"\n",
    "\n",
    "# be sure that we dont have wrong modifier on the way\n",
    "vcf.modifier = None\n",
    "\n",
    "aln = snps_aln(vcf, ref, contig=\"KLLA0A\", start=0, stop=100)\n",
    "print (aln)"
   ]
  },
  {
   "cell_type": "markdown",
   "metadata": {},
   "source": [
    "This function returns a [`MultipleSeqAlignment`](https://biopython.org/DIST/docs/api/Bio.Align.MultipleSeqAlignment-class.html) (MSA) object which can be exported easily in other format using [biopython AlignIO](https://biopython.org/wiki/AlignIO)."
   ]
  },
  {
   "cell_type": "code",
   "execution_count": 12,
   "metadata": {
    "collapsed": false
   },
   "outputs": [],
   "source": [
    "from Bio import AlignIO\n",
    "\n",
    "outfile = \"./Test/aln.phylip\"\n",
    "with open(outfile, \"w\") as f :\n",
    "    AlignIO.write(aln, f, \"phylip\")"
   ]
  },
  {
   "cell_type": "markdown",
   "metadata": {},
   "source": [
    "Note that MSA objects can be summed, allowing you to easily concat alignments (such as contigs for whole genome)."
   ]
  },
  {
   "cell_type": "code",
   "execution_count": 13,
   "metadata": {
    "collapsed": false
   },
   "outputs": [
    {
     "name": "stdout",
     "output_type": "stream",
     "text": [
      "Alphabet() alignment with 41 rows and 200 columns\n",
      "AACCGGCGCCAGTGTGCTGGGACCACATACCTAATCAAATCCGT...CCA AAA_1\n",
      "AACCGGCGCCAGTGTGCTGGGACCACATACCTAATCAAATCCGT...CCA AAB_1\n",
      "AACCGGCGCCAGTGTGCTGGGACCACATACCTAATCAAATCCGT...CCA AAC_1\n",
      "AACCGGCGCCAGTGTGCTGGGACCACATACCTAATCAAATCCGT...CCA AAD_1\n",
      "AACCGGCGCCAGTGTGCTGGGACCACATACCTAATCAAATCCGT...CCA AAE_1\n",
      "AACCGGCGCCAGTGTGCTGGGACCACATACCTAATCAAATCCGT...CCA AAF_1\n",
      "AACCGGCGCCAGTGTGCTGGGACCACATACCTAATCAAATCCGT...CCA AAG_1\n",
      "AACCGGCGCCAGTGTGCTGGGACCACATACCTAATCAAATCCGT...CCA AAH_1\n",
      "AACCGGCGCCAGTGTGCTGGGACCACATACCTAATCAAATCCGT...CCA AAI_1\n",
      "AACCGGCGCCAGTGTGCTGGGACCACATACCTAATCAAATCCGT...CCA AAJ_1\n",
      "AACCGGCGCCAGTGTGCTGGGACCACATACCTAATCAAATCCGT...CCA AAK_1\n",
      "AACCGGCGCCAGTGTGCTGGGACCACATACCTAATCAAATCCGT...CCA AAL_1\n",
      "AACCGGCGCCAGTGTGCTGGGACCACATACCTAATCAAATCCGT...CCA AAM_1\n",
      "AACCGGCGCCAGTGTGCTGGGACCACATACCTAATCAAATCCGT...CCA AAN_1\n",
      "AACCGGCGCCAGTGTGCTGGGACCACATACCTAATCAAATCCGT...CCA AAO_1\n",
      "AACCGGCGCCAGTGTGCTGGGACCACATACCTAATCAAATCCGT...CCA AAP_1\n",
      "AACCGGCGCCAGTGTGCTGGGACCACATACCTAATCAAATCCGT...CCA AAQ_1\n",
      "AACCGGCGCCAGTGTGCTGGGACCACATACCTAATCAAATCCGT...CCA AAR_1\n",
      "...\n",
      "AACCGGCGCCAGTGTGCTGGGACCACATACCTAATCAAATCCGT...CCA ABS_1\n"
     ]
    }
   ],
   "source": [
    "aln2 = aln + aln\n",
    "print (aln2)"
   ]
  },
  {
   "cell_type": "markdown",
   "metadata": {},
   "source": [
    "## Recipes\n",
    "\n",
    "I try to add some function which could be reused easily on other data. They can be found in the recipes directory. For example for minor allele frequency (require pandas) :"
   ]
  },
  {
   "cell_type": "code",
   "execution_count": 15,
   "metadata": {
    "collapsed": false
   },
   "outputs": [
    {
     "name": "stdout",
     "output_type": "stream",
     "text": [
      "    SampleCount  SampleFreq  SiteCount  SiteFreq\n",
      "0           9.0    0.073171       2975  0.481080\n",
      "1          12.0    0.097561         44  0.007115\n",
      "2          15.0    0.121951        242  0.039133\n",
      "3          18.0    0.146341        999  0.161546\n",
      "4          21.0    0.170732         17  0.002749\n",
      "5          24.0    0.195122        108  0.017464\n",
      "6          27.0    0.219512        395  0.063875\n",
      "7          30.0    0.243902        544  0.087969\n",
      "8          33.0    0.268293         40  0.006468\n",
      "9          36.0    0.292683        108  0.017464\n",
      "10         39.0    0.317073         33  0.005336\n",
      "11         42.0    0.341463          2  0.000323\n",
      "12         45.0    0.365854         22  0.003558\n",
      "13         48.0    0.390244         16  0.002587\n",
      "14         51.0    0.414634          3  0.000485\n",
      "15         54.0    0.439024         50  0.008085\n",
      "16         57.0    0.463415         97  0.015686\n",
      "17         60.0    0.487805        489  0.079075\n"
     ]
    }
   ],
   "source": [
    "from pgpy import *\n",
    "\n",
    "res = maf(\"./Test/vcf.gz\", \"KLLA0A\", 0, 100000)\n",
    "print (res)"
   ]
  },
  {
   "cell_type": "markdown",
   "metadata": {
    "collapsed": true
   },
   "source": [
    "## Multiprocessing\n",
    "\n",
    "While pgpy is not made for performance, a multiprocessing tool dedicated to query different regions at the same time is available. This function requiered that the functions arguments take `contig`, `start` and `end` arguments, either as positional argument or as `** kwargs`. Most of the recipies allows this, however concatenation of the result requiered often a bit of knowledge in pandas.\n",
    "\n",
    "Two functions are available : \n",
    "- The first one (`apply_mp`) gives you a complete controle of your regions\n",
    "- The second one (`apply_mp_contig`) is simplier and does the trick for each contig of your vcf\n",
    "\n",
    "For the sake of this tutorial, let's say we only want to count the number of SNPs in one of our haploid samples. First let make this without multi-processing."
   ]
  },
  {
   "cell_type": "code",
   "execution_count": 31,
   "metadata": {
    "collapsed": false
   },
   "outputs": [
    {
     "name": "stdout",
     "output_type": "stream",
     "text": [
      "KLLA0A 13297\n",
      "KLLA0A 500004\n",
      "KLLA0A 1000001\n",
      "KLLA0B 18321\n",
      "KLLA0B 500022\n",
      "KLLA0B 1000001\n",
      "KLLA0C 14806\n",
      "KLLA0C 500011\n",
      "KLLA0C 1000006\n",
      "KLLA0C 1500051\n",
      "KLLA0D 18315\n",
      "KLLA0D 500027\n",
      "KLLA0D 1000011\n",
      "KLLA0D 1514015\n",
      "KLLA0E 22584\n",
      "KLLA0E 500001\n",
      "KLLA0E 1000030\n",
      "KLLA0E 1500029\n",
      "KLLA0E 2000192\n",
      "KLLA0F 12969\n",
      "KLLA0F 500025\n",
      "KLLA0F 1000085\n",
      "KLLA0F 1500037\n",
      "KLLA0F 2000013\n",
      "KLLA0F 2500004\n",
      "756589\n"
     ]
    }
   ],
   "source": [
    "VI.SHOWMODE = True\n",
    "VI.SHOWPOSI = 500000 # show the loop position each 500kb\n",
    "\n",
    "def count_indels(vcf, sample, ** kwargs) :\n",
    "    count = 0\n",
    "\n",
    "    for site in vcf.fetch(** kwargs) :\n",
    "        ref = site[2]\n",
    "        genotype = site[3]\n",
    "        \n",
    "        # This work because our sample is haploid\n",
    "        if genotype[sample][0] != None :\n",
    "            count += 1\n",
    "        \n",
    "    return count\n",
    "    \n",
    "vcf = VI(\"./Test/vcf.gz\")\n",
    "print (count_indels(vcf, \"AAA\"))"
   ]
  },
  {
   "cell_type": "markdown",
   "metadata": {},
   "source": [
    "Now we can make it easily scale up for each contig"
   ]
  },
  {
   "cell_type": "code",
   "execution_count": 36,
   "metadata": {
    "collapsed": false
   },
   "outputs": [
    {
     "name": "stdout",
     "output_type": "stream",
     "text": [
      "KLLA0D 18315\n",
      "KLLA0A 13297\n",
      "KLLA0C 14806\n",
      "KLLA0B 18321\n",
      "KLLA0D 500027\n",
      "KLLA0C 500011\n",
      "KLLA0A 500004\n",
      "KLLA0B 500022\n",
      "KLLA0D 1000011\n",
      "KLLA0B 1000001\n",
      "KLLA0A 1000001\n",
      "KLLA0C 1000006\n",
      "KLLA0E 22584\n",
      "KLLA0F 12969\n",
      "KLLA0D 1514015\n",
      "KLLA0C 1500051\n",
      "KLLA0E 500001\n",
      "KLLA0F 500025\n",
      "KLLA0E 1000030\n",
      "KLLA0F 1000085\n",
      "KLLA0E 1500029\n",
      "KLLA0F 1500037\n",
      "KLLA0E 2000192\n",
      "KLLA0F 2000013\n",
      "KLLA0F 2500004\n",
      "{'KLLA0E': 158884, 'KLLA0B': 92410, 'KLLA0A': 72796, 'KLLA0F': 189865, 'KLLA0D': 117931, 'KLLA0C': 124703}\n"
     ]
    }
   ],
   "source": [
    "from pgpy.core.processing import apply_mp_contig\n",
    "\n",
    "results = apply_mp_contig(vcf, count_indels, \"AAA\", ncore=4)\n",
    "print (results)"
   ]
  },
  {
   "cell_type": "markdown",
   "metadata": {},
   "source": [
    "As you can see, 4 contigs has been processed at the same time, however each result are splitted by contigs."
   ]
  },
  {
   "cell_type": "code",
   "execution_count": 37,
   "metadata": {
    "collapsed": false
   },
   "outputs": [
    {
     "name": "stdout",
     "output_type": "stream",
     "text": [
      "756589\n"
     ]
    }
   ],
   "source": [
    "print (sum(results.values()))"
   ]
  },
  {
   "cell_type": "markdown",
   "metadata": {},
   "source": [
    "With this example, you might not have seen a big difference in the processing time. This is due to the fact that most of the processing time was in fact link to the file reading. Since we iterate through the same file, it's not that faster to use different process. However, it becomes really handy when you use more \"heavy\" function."
   ]
  },
  {
   "cell_type": "code",
   "execution_count": null,
   "metadata": {
    "collapsed": true
   },
   "outputs": [],
   "source": []
  }
 ],
 "metadata": {
  "kernelspec": {
   "display_name": "Python 3",
   "language": "python",
   "name": "python3"
  },
  "language_info": {
   "codemirror_mode": {
    "name": "ipython",
    "version": 3
   },
   "file_extension": ".py",
   "mimetype": "text/x-python",
   "name": "python",
   "nbconvert_exporter": "python",
   "pygments_lexer": "ipython3",
   "version": "3.5.4"
  }
 },
 "nbformat": 4,
 "nbformat_minor": 2
}
